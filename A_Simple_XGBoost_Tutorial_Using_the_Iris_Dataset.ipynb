{
  "nbformat": 4,
  "nbformat_minor": 0,
  "metadata": {
    "colab": {
      "name": "A Simple XGBoost Tutorial Using the Iris Dataset.ipynb",
      "provenance": [],
      "authorship_tag": "ABX9TyPelyNJ6rRKGU0nK70jpKwz",
      "include_colab_link": true
    },
    "kernelspec": {
      "name": "python3",
      "display_name": "Python 3"
    },
    "language_info": {
      "name": "python"
    }
  },
  "cells": [
    {
      "cell_type": "markdown",
      "metadata": {
        "id": "view-in-github",
        "colab_type": "text"
      },
      "source": [
        "<a href=\"https://colab.research.google.com/github/pemanentomat/PembelajaranMesin_WEEK-7/blob/main/A_Simple_XGBoost_Tutorial_Using_the_Iris_Dataset.ipynb\" target=\"_parent\"><img src=\"https://colab.research.google.com/assets/colab-badge.svg\" alt=\"Open In Colab\"/></a>"
      ]
    },
    {
      "cell_type": "markdown",
      "metadata": {
        "id": "n2l_Fr-OeN9c"
      },
      "source": [
        "for best explain, please check:\n",
        " \n",
        "https://www.kdnuggets.com/2017/03/simple-xgboost-tutorial-iris-dataset.html"
      ]
    },
    {
      "cell_type": "code",
      "metadata": {
        "colab": {
          "base_uri": "https://localhost:8080/"
        },
        "id": "IBtVKHlTc8IQ",
        "outputId": "2a05fb97-bf1e-4e6c-9cf7-0c919ea31a31"
      },
      "source": [
        "# Ieva Zarina, 2016, licensed under the Apache 2.0 licnese\n",
        "\n",
        "import numpy as np\n",
        "import xgboost as xgb\n",
        "from sklearn import datasets\n",
        "from sklearn.model_selection import train_test_split\n",
        "from sklearn.datasets import dump_svmlight_file\n",
        "from sklearn.externals import joblib\n",
        "from sklearn.metrics import precision_score\n",
        "\n",
        "iris = datasets.load_iris()\n",
        "X = iris.data\n",
        "y = iris.target\n",
        "\n",
        "X_train, X_test, y_train, y_test = train_test_split(X, y, test_size=0.2, random_state=42)\n",
        "\n",
        "# use DMatrix for xgbosot\n",
        "dtrain = xgb.DMatrix(X_train, label=y_train)\n",
        "dtest = xgb.DMatrix(X_test, label=y_test)\n",
        "\n",
        "# use svmlight file for xgboost\n",
        "dump_svmlight_file(X_train, y_train, 'dtrain.svm', zero_based=True)\n",
        "dump_svmlight_file(X_test, y_test, 'dtest.svm', zero_based=True)\n",
        "dtrain_svm = xgb.DMatrix('dtrain.svm')\n",
        "dtest_svm = xgb.DMatrix('dtest.svm')\n",
        "\n",
        "# set xgboost params\n",
        "param = {\n",
        "    'max_depth': 3,  # the maximum depth of each tree\n",
        "    'eta': 0.3,  # the training step for each iteration\n",
        "    'silent': 1,  # logging mode - quiet\n",
        "    'objective': 'multi:softprob',  # error evaluation for multiclass training\n",
        "    'num_class': 3}  # the number of classes that exist in this datset\n",
        "num_round = 20  # the number of training iterations\n",
        "\n",
        "#------------- numpy array ------------------\n",
        "# training and testing - numpy matrices\n",
        "bst = xgb.train(param, dtrain, num_round)\n",
        "preds = bst.predict(dtest)\n",
        "\n",
        "# extracting most confident predictions\n",
        "best_preds = np.asarray([np.argmax(line) for line in preds])\n",
        "print(\"Numpy array precision:\", precision_score(y_test, best_preds, average='macro'))\n",
        "\n",
        "# ------------- svm file ---------------------\n",
        "# training and testing - svm file\n",
        "bst_svm = xgb.train(param, dtrain_svm, num_round)\n",
        "preds = bst.predict(dtest_svm)\n",
        "\n",
        "# extracting most confident predictions\n",
        "best_preds_svm = [np.argmax(line) for line in preds]\n",
        "print(\"Svm file precision:\",precision_score(y_test, best_preds_svm, average='macro'))\n",
        "# --------------------------------------------\n",
        "\n",
        "# dump the models\n",
        "bst.dump_model('dump.raw.txt')\n",
        "bst_svm.dump_model('dump_svm.raw.txt')\n",
        "\n",
        "\n",
        "# save the models for later\n",
        "joblib.dump(bst, 'bst_model.pkl', compress=True)\n",
        "joblib.dump(bst_svm, 'bst_svm_model.pkl', compress=True)"
      ],
      "execution_count": 7,
      "outputs": [
        {
          "output_type": "stream",
          "name": "stdout",
          "text": [
            "[12:56:23] 120x4 matrix with 480 entries loaded from dtrain.svm\n",
            "[12:56:23] 30x4 matrix with 120 entries loaded from dtest.svm\n",
            "Numpy array precision: 1.0\n",
            "Svm file precision: 1.0\n"
          ]
        },
        {
          "output_type": "stream",
          "name": "stderr",
          "text": [
            "/usr/local/lib/python3.7/dist-packages/sklearn/externals/joblib/__init__.py:15: FutureWarning: sklearn.externals.joblib is deprecated in 0.21 and will be removed in 0.23. Please import this functionality directly from joblib, which can be installed with: pip install joblib. If this warning is raised when loading pickled models, you may need to re-serialize those models with scikit-learn 0.21+.\n",
            "  warnings.warn(msg, category=FutureWarning)\n"
          ]
        },
        {
          "output_type": "execute_result",
          "data": {
            "text/plain": [
              "['bst_svm_model.pkl']"
            ]
          },
          "metadata": {},
          "execution_count": 7
        }
      ]
    }
  ]
}
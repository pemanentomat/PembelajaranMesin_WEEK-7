{
  "nbformat": 4,
  "nbformat_minor": 0,
  "metadata": {
    "colab": {
      "name": "Regression Example with XGBRegressor in Python.ipynb",
      "provenance": [],
      "authorship_tag": "ABX9TyPHpMzVS+VXyiiCeELt0zrP",
      "include_colab_link": true
    },
    "kernelspec": {
      "name": "python3",
      "display_name": "Python 3"
    },
    "language_info": {
      "name": "python"
    }
  },
  "cells": [
    {
      "cell_type": "markdown",
      "metadata": {
        "id": "view-in-github",
        "colab_type": "text"
      },
      "source": [
        "<a href=\"https://colab.research.google.com/github/pemanentomat/PembelajaranMesin_WEEK-7/blob/main/Regression_Example_with_XGBRegressor_in_Python.ipynb\" target=\"_parent\"><img src=\"https://colab.research.google.com/assets/colab-badge.svg\" alt=\"Open In Colab\"/></a>"
      ]
    },
    {
      "cell_type": "markdown",
      "metadata": {
        "id": "9tL41mlAa7S8"
      },
      "source": [
        "Regression Example with XGBRegressor in Python\n"
      ]
    },
    {
      "cell_type": "code",
      "metadata": {
        "id": "-uwnS29nZpAQ"
      },
      "source": [
        "import xgboost as xgb\n",
        "from xgboost import XGBRegressor\n",
        "from sklearn.datasets import load_boston\n",
        "from sklearn.model_selection import train_test_split\n",
        "from sklearn.model_selection import cross_val_score, KFold\n",
        "from sklearn.metrics import mean_squared_error\n",
        "import matplotlib.pyplot as plt "
      ],
      "execution_count": 3,
      "outputs": []
    },
    {
      "cell_type": "markdown",
      "metadata": {
        "id": "BI5g_1plauNS"
      },
      "source": [
        "Preparing data\n"
      ]
    },
    {
      "cell_type": "code",
      "metadata": {
        "id": "cq4cmMYAahLi"
      },
      "source": [
        "boston = load_boston()\n",
        "x, y = boston.data, boston.target\n",
        "xtrain, xtest, ytrain, ytest=train_test_split(x, y, test_size=0.15)\n"
      ],
      "execution_count": 7,
      "outputs": []
    },
    {
      "cell_type": "markdown",
      "metadata": {
        "id": "4auCOIqSawNz"
      },
      "source": [
        "Defining and fitting the model\n"
      ]
    },
    {
      "cell_type": "code",
      "metadata": {
        "colab": {
          "base_uri": "https://localhost:8080/"
        },
        "id": "-Zf-klZiZzJg",
        "outputId": "4e71eb37-50a9-43d7-a83f-522547b99e01"
      },
      "source": [
        "xgbr = xgb.XGBRegressor(verbosity=0) \n",
        "print(xgbr)\n"
      ],
      "execution_count": 8,
      "outputs": [
        {
          "output_type": "stream",
          "name": "stdout",
          "text": [
            "XGBRegressor(base_score=0.5, booster='gbtree', colsample_bylevel=1,\n",
            "             colsample_bynode=1, colsample_bytree=1, gamma=0,\n",
            "             importance_type='gain', learning_rate=0.1, max_delta_step=0,\n",
            "             max_depth=3, min_child_weight=1, missing=None, n_estimators=100,\n",
            "             n_jobs=1, nthread=None, objective='reg:linear', random_state=0,\n",
            "             reg_alpha=0, reg_lambda=1, scale_pos_weight=1, seed=None,\n",
            "             silent=None, subsample=1, verbosity=0)\n"
          ]
        }
      ]
    },
    {
      "cell_type": "markdown",
      "metadata": {
        "id": "JjY1XV20ayZs"
      },
      "source": [
        " fit the model "
      ]
    },
    {
      "cell_type": "code",
      "metadata": {
        "colab": {
          "base_uri": "https://localhost:8080/"
        },
        "id": "TmcAweSeZ1cG",
        "outputId": "ac073105-cba4-4e2c-e94e-f18320f45234"
      },
      "source": [
        "xgbr.fit(xtrain, ytrain)\n"
      ],
      "execution_count": 9,
      "outputs": [
        {
          "output_type": "execute_result",
          "data": {
            "text/plain": [
              "XGBRegressor(base_score=0.5, booster='gbtree', colsample_bylevel=1,\n",
              "             colsample_bynode=1, colsample_bytree=1, gamma=0,\n",
              "             importance_type='gain', learning_rate=0.1, max_delta_step=0,\n",
              "             max_depth=3, min_child_weight=1, missing=None, n_estimators=100,\n",
              "             n_jobs=1, nthread=None, objective='reg:linear', random_state=0,\n",
              "             reg_alpha=0, reg_lambda=1, scale_pos_weight=1, seed=None,\n",
              "             silent=None, subsample=1, verbosity=0)"
            ]
          },
          "metadata": {},
          "execution_count": 9
        }
      ]
    },
    {
      "cell_type": "markdown",
      "metadata": {
        "id": "VZadhslda3IR"
      },
      "source": [
        "Predicting and checking the results\n"
      ]
    },
    {
      "cell_type": "code",
      "metadata": {
        "colab": {
          "base_uri": "https://localhost:8080/"
        },
        "id": "oFOigb2HZ2zX",
        "outputId": "d3979590-89c4-40f2-8864-099a9f1e6e3e"
      },
      "source": [
        "score = xgbr.score(xtrain, ytrain)  \n",
        "print(\"Training score: \", score)\n",
        "\n"
      ],
      "execution_count": 10,
      "outputs": [
        {
          "output_type": "stream",
          "name": "stdout",
          "text": [
            "Training score:  0.9737773857941825\n"
          ]
        }
      ]
    },
    {
      "cell_type": "code",
      "metadata": {
        "colab": {
          "base_uri": "https://localhost:8080/"
        },
        "id": "B6iWhJYUZ4p2",
        "outputId": "b6b3f629-52e6-4ca4-bfaa-164db37dac51"
      },
      "source": [
        "scores = cross_val_score(xgbr, xtrain, ytrain,cv=10)\n",
        "print(\"Mean cross-validation score: %.2f\" % scores.mean())\n"
      ],
      "execution_count": 11,
      "outputs": [
        {
          "output_type": "stream",
          "name": "stdout",
          "text": [
            "Mean cross-validation score: 0.88\n"
          ]
        }
      ]
    },
    {
      "cell_type": "code",
      "metadata": {
        "colab": {
          "base_uri": "https://localhost:8080/"
        },
        "id": "jnK8GrZoZ6dR",
        "outputId": "bc517525-cfc7-499c-f8b6-313af14ce644"
      },
      "source": [
        "kfold = KFold(n_splits=10, shuffle=True)\n",
        "kf_cv_scores = cross_val_score(xgbr, xtrain, ytrain, cv=kfold )\n",
        "print(\"K-fold CV average score: %.2f\" % kf_cv_scores.mean())\n"
      ],
      "execution_count": 12,
      "outputs": [
        {
          "output_type": "stream",
          "name": "stdout",
          "text": [
            "K-fold CV average score: 0.87\n"
          ]
        }
      ]
    },
    {
      "cell_type": "code",
      "metadata": {
        "colab": {
          "base_uri": "https://localhost:8080/"
        },
        "id": "eoBnO9WiZ8NH",
        "outputId": "1945048c-d505-40df-a4c6-c406a0d53a65"
      },
      "source": [
        "ypred = xgbr.predict(xtest)\n",
        "mse = mean_squared_error(ytest, ypred)\n",
        "print(\"MSE: %.2f\" % mse)\n",
        "print(\"RMSE: %.2f\" % (mse**(1/2.0)))"
      ],
      "execution_count": 14,
      "outputs": [
        {
          "output_type": "stream",
          "name": "stdout",
          "text": [
            "MSE: 12.98\n",
            "RMSE: 3.60\n"
          ]
        }
      ]
    },
    {
      "cell_type": "code",
      "metadata": {
        "colab": {
          "base_uri": "https://localhost:8080/",
          "height": 281
        },
        "id": "qQMETj9zaARl",
        "outputId": "99bbe7f7-7365-4726-c758-54c09eb6c54b"
      },
      "source": [
        "x_ax = range(len(ytest))\n",
        "plt.plot(x_ax, ytest, label=\"original\")\n",
        "plt.plot(x_ax, ypred, label=\"predicted\")\n",
        "plt.title(\"Boston test and predicted data\")\n",
        "plt.legend()\n",
        "plt.show()\n"
      ],
      "execution_count": 15,
      "outputs": [
        {
          "output_type": "display_data",
          "data": {
            "image/png": "[encoded data removed]",
            "text/plain": [
              "<Figure size 432x288 with 1 Axes>"
            ]
          },
          "metadata": {
            "needs_background": "light"
          }
        }
      ]
    }
  ]
}